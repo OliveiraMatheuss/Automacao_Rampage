{
  "cells": [
    {
      "cell_type": "markdown",
      "metadata": {
        "id": "view-in-github",
        "colab_type": "text"
      },
      "source": [
        "<a href=\"https://colab.research.google.com/github/OliveiraMatheuss/Automacao_Rampage/blob/main/automacao_comprovantes.ipynb\" target=\"_parent\"><img src=\"https://colab.research.google.com/assets/colab-badge.svg\" alt=\"Open In Colab\"/></a>"
      ]
    },
    {
      "cell_type": "markdown",
      "metadata": {
        "id": "FvBNyVyRP3Hw"
      },
      "source": [
        " # Leitor de comprovantes bancários "
      ]
    },
    {
      "cell_type": "markdown",
      "source": [
        "## Iniciar Script"
      ],
      "metadata": {
        "id": "wCYjGGL0hJ8O"
      }
    },
    {
      "cell_type": "code",
      "execution_count": null,
      "metadata": {
        "id": "UTa0OHGSP3ID",
        "colab": {
          "base_uri": "https://localhost:8080/"
        },
        "outputId": "c51ce558-cec8-4bf9-c12f-58650e061041"
      },
      "outputs": [
        {
          "output_type": "stream",
          "name": "stdout",
          "text": [
            "Reading package lists...\n",
            "Building dependency tree...\n",
            "Reading state information...\n",
            "tesseract-ocr-por is already the newest version (1:4.00~git30-7274cfa-1).\n",
            "0 upgraded, 0 newly installed, 0 to remove and 24 not upgraded.\n",
            "Looking in indexes: https://pypi.org/simple, https://us-python.pkg.dev/colab-wheels/public/simple/\n",
            "Looking in indexes: https://pypi.org/simple, https://us-python.pkg.dev/colab-wheels/public/simple/\n",
            "Looking in indexes: https://pypi.org/simple, https://us-python.pkg.dev/colab-wheels/public/simple/\n"
          ]
        }
      ],
      "source": [
        "\n",
        "# Instalações\n",
        "!sudo apt-get install tesseract-ocr-por | grep -v 'already satisfied'\n",
        "!pip install pytesseract  | grep -v 'already satisfied'\n",
        "!pip install gspread_dataframe==3.3.0  | grep -v 'already satisfied'\n",
        "!pip install gspread==5.4.0  | grep -v 'already satisfied'\n",
        "\n",
        "#------Importações de Pacotes -----------------------------------------------------------------------------------|\n",
        "\n",
        "import pytesseract\n",
        "import pandas as pd\n",
        "import re\n",
        "from tqdm import tqdm\n",
        "import glob\n",
        "from PIL import Image\n",
        "from oauth2client.client import GoogleCredentials \n",
        "from google.auth import default\n",
        "from google.colab import auth\n",
        "import gspread\n",
        "from gspread_dataframe import set_with_dataframe\n",
        "\n",
        "#------------------------------------------------------------------------------------------------------------------------#\n",
        "\n",
        "#------------------------------------------------------------------------------------------------------------------------|\n",
        "\n",
        "# Montar o drive para buscar os arquivos\n",
        "from google.colab import drive\n",
        "drive.mount('/content/drive') #Acessar drive da Rampage\n",
        "\n",
        "#------------------------------------------------------------------------------------------------------------------|\n",
        "# Inicio Função de leitura dos comprovantes -----------------------------------------------------------------------------|\n",
        "\n",
        "def tabela_pix():\n",
        "    auth.authenticate_user()\n",
        "    creds, _ = default()\n",
        "    gc = gspread.authorize(creds)\n",
        "\n",
        "    print('Cole o Caminho onde estão os comprovantes\\n')\n",
        "    path = input()\n",
        "    diretorio = glob.glob(path + '/*.jpg')\n",
        "\n",
        "    print('\\n Digite o nome da tabela \\n')\n",
        "    name_tab = input()\n",
        "\n",
        "    arquivo = []\n",
        "    entrada = []\n",
        "    saida = []\n",
        "    data_transacao = []\n",
        "    descricao = []\n",
        "    pagador = []\n",
        "\n",
        "    for nome in tqdm(diretorio):\n",
        "        \n",
        "        #Leitura da imagem\n",
        "        diretorio = nome\n",
        "        image_path_in_colab = nome\n",
        "\n",
        "        #Extrai a informaçõe em formato de texto\n",
        "        extractedInformation = pytesseract.image_to_string(Image.open(image_path_in_colab),lang=\"por\")\n",
        "        texto = extractedInformation\n",
        "        manipula_arquivo = nome.split('/')\n",
        "        manipula_arquivo = manipula_arquivo[-1] # Pega somente o nome do arquivo e ignora o diretório\n",
        "        arquivo.append(manipula_arquivo) # guarda o nome do arquivo em uma lista\n",
        "            \n",
        "        # Buscar  valor Recebido\n",
        "        fatia = texto.split() \n",
        "\n",
        "       \n",
        "\n",
        "        try:\n",
        "          #Tratativa de erro, na leitura do comproavante pode haver comprovantes com R$ ou com RS \n",
        "          \n",
        "          indice_RS = fatia.index('RS')\n",
        "        except ValueError:\n",
        "          indice_RS = fatia.index('R$')\n",
        "\n",
        "\n",
        "        # Encontrar os tipos de entrada( receber uma transferência)\n",
        "        if (('Pixrecebido' in texto) \n",
        "              or ('Pix recebido' in texto) \n",
        "              or ('Transferência recebida' in texto) \n",
        "              or ('Cashback Promocional' in texto) \n",
        "              or ('Cashback' in texto) \n",
        "              or ('Boleto recebido 48 horas' in texto) \n",
        "              or ('Transferência recebida' in texto)\n",
        "                  ):  \n",
        "            \n",
        "            entrada.append(fatia[indice_RS+1]) # Valor do Pix Recebido\n",
        "            saida.append(' ') # vazio pois é uma entrada\n",
        "            fatia = texto.split('\\n')\n",
        "            fatia = [elemento for elemento in fatia if elemento.strip() != \"\"]\n",
        "            if 'Descrição' in texto:\n",
        "              \n",
        "                \n",
        "              if 'Descrição' in fatia[fatia.index('Quem enviou')-1]:\n",
        "                    \n",
        "                  descricao.append(fatia[fatia.index('Quem enviou')-1][9:])\n",
        "                \n",
        "              else: \n",
        "                 descricao.append(fatia[fatia.index('Quem enviou')-1])\n",
        "            else: \n",
        "              descricao.append('sem descricao')\n",
        "\n",
        "            \n",
        "        # Encontrar os tifpo de saida \n",
        "        elif (('—Compra-crédito debitado' in texto) \n",
        "                or ('Pix enviado' in texto) \n",
        "                or ('Pix enviado devolvido' in texto) \n",
        "                or ('Pagamento efetuado' in texto) \n",
        "                or ('Compra no débito' in texto) \n",
        "                or ('Compra - crédito debitado' in texto) \n",
        "                or ('Transferência enviada' in texto)\n",
        "                    ):\n",
        "          \n",
        "            entrada.append(' ')\n",
        "            saida.append(fatia[indice_RS+1])\n",
        "\n",
        "            fatia = texto.split('\\n')\n",
        "            fatia = [elemento for elemento in fatia if elemento.strip() != \"\"]\n",
        "\n",
        "            if 'Descrição' in texto:\n",
        "\n",
        "\n",
        "                  if 'Descrição' in fatia[fatia.index('Quem recebeu')-1]:\n",
        "                    \n",
        "                      descricao.append(fatia[fatia.index('Quem recebeu')-1][9:])\n",
        "                \n",
        "                  else: \n",
        "                    descricao.append(fatia[fatia.index('Quem recebeu')-1])\n",
        "\n",
        "            else: \n",
        "                descricao.append('sem descricao')\n",
        "\n",
        "        # Se o tipo de transferência não foi especificado aqui\n",
        "        else:\n",
        "              entrada.append('tipo de pagamento não suportado')\n",
        "              saida.append('tipo de pagamento não suportado')\n",
        "            \n",
        "        #Buscar a data do Pagamento\n",
        "        matchs = re.search(r'(\\d+/\\d+/\\d+)', texto)\n",
        "        data_transacao.append(matchs.group(1)) # Data\n",
        "            \n",
        "        # Buscar nome do Pagador\n",
        "        fatia = texto.split('\\n')\n",
        "        fatia = [elemento for elemento in fatia if elemento.strip() != \"\"]\n",
        "\n",
        "        if ('Cashback Promocional' in texto) or ('Cashback' in texto):\n",
        "          pagador.append('Cashback')\n",
        "        elif 'Boleto recebido 48 horas' in texto:\n",
        "          pagador.append('Boleto recebido')\n",
        "        else:\n",
        "          pagador.append(fatia[fatia.index('Sobre a transação')-1]) #Nome Pagador\n",
        "            \n",
        "      \n",
        "\n",
        "\n",
        "    a = {'Nome':pagador, 'data': data_transacao, 'entrada': entrada, 'Saida':saida, 'Descrição': descricao, 'arquivo':arquivo}\n",
        "    df = pd.DataFrame.from_dict(a, orient='index') \n",
        "    df = df.transpose()\n",
        "\n",
        "    #Cria a planilha que vai receber os dados\n",
        "    \"\"\"\n",
        "     para pegar o folder id : abra a pasta no drive e copia a ultima parte do link \n",
        "     https://drive.google.com/drive/u/0/folders/<folder_id> \n",
        "\n",
        "    \"\"\"\n",
        "\n",
        "    folder_id = '1ND0LulP2nnHGGC-QRRV34uSt5Hwt1qnR'\n",
        "    gc.create(name_tab, folder_id= folder_id)\n",
        "    \n",
        "    #Abre a planilha via Python\n",
        "    gs = gc.open(name_tab)\n",
        "    worksheet1 = gs.worksheet('Página1') # Nome da pagina padrão ao criar uma planilha\n",
        "    worksheet1.clear()\n",
        "    set_with_dataframe(worksheet=worksheet1, dataframe=df, include_index=False)\n",
        "\n",
        "    return df\n",
        "\n",
        "# Fim da Função -------------------------------------------------------------------------------------------------------\n",
        "\n",
        "# Inicio das entradas ------------------------------------------------------------------------------------------------\n"
      ]
    },
    {
      "cell_type": "markdown",
      "source": [
        "## Gerar Tabela"
      ],
      "metadata": {
        "id": "A0xXWEc86E5t"
      }
    },
    {
      "cell_type": "code",
      "source": [
        "df = tabela_pix()"
      ],
      "metadata": {
        "id": "mB4gwVummXYH"
      },
      "execution_count": null,
      "outputs": []
    },
    {
      "cell_type": "markdown",
      "source": [
        "## Contato"
      ],
      "metadata": {
        "id": "8XDvSJ8NloPd"
      }
    },
    {
      "cell_type": "markdown",
      "source": [
        "* Autor  : Matheus Ramos de Oliveira\n",
        "\n",
        "* contato: ramos.matheus@engenharia.ufjf.br\n",
        "\n",
        "* LinkedIn: https://www.linkedin.com/in/oliveiramatheuss/\n",
        "\n",
        "\n",
        "\n",
        "\n"
      ],
      "metadata": {
        "id": "vG5Zq9dLkB6S"
      }
    }
  ],
  "metadata": {
    "kernelspec": {
      "display_name": "Python 3",
      "language": "python",
      "name": "python3"
    },
    "language_info": {
      "codemirror_mode": {
        "name": "ipython",
        "version": 3
      },
      "file_extension": ".py",
      "mimetype": "text/x-python",
      "name": "python",
      "nbconvert_exporter": "python",
      "pygments_lexer": "ipython3",
      "version": "3.7.6"
    },
    "colab": {
      "provenance": [],
      "include_colab_link": true
    }
  },
  "nbformat": 4,
  "nbformat_minor": 0
}