{
  "cells": [
    {
      "cell_type": "markdown",
      "metadata": {
        "id": "view-in-github",
        "colab_type": "text"
      },
      "source": [
        "<a href=\"https://colab.research.google.com/github/OliveiraMatheuss/Automacao_Rampage/blob/main/automacao_comprovantes.ipynb\" target=\"_parent\"><img src=\"https://colab.research.google.com/assets/colab-badge.svg\" alt=\"Open In Colab\"/></a>"
      ]
    },
    {
      "cell_type": "markdown",
      "metadata": {
        "id": "FvBNyVyRP3Hw"
      },
      "source": [
        " # Leitor de comprovantes bancários "
      ]
    },
    {
      "cell_type": "markdown",
      "source": [
        "## Iniciar Script"
      ],
      "metadata": {
        "id": "wCYjGGL0hJ8O"
      }
    },
    {
      "cell_type": "code",
      "source": [
        "\n",
        "# Instalações\n",
        "!sudo apt-get install tesseract-ocr-por | grep -v 'already satisfied'\n",
        "!pip install pytesseract  | grep -v 'already satisfied'\n",
        "!pip install gspread_dataframe==3.3.0  | grep -v 'already satisfied'\n",
        "!pip install gspread==5.4.0  | grep -v 'already satisfied'\n"
      ],
      "metadata": {
        "id": "vGY2YY35-BHC"
      },
      "execution_count": null,
      "outputs": []
    },
    {
      "cell_type": "code",
      "execution_count": 28,
      "metadata": {
        "id": "UTa0OHGSP3ID",
        "colab": {
          "base_uri": "https://localhost:8080/"
        },
        "outputId": "be488255-a430-4683-8cd6-e90c6562d7f4"
      },
      "outputs": [
        {
          "output_type": "stream",
          "name": "stdout",
          "text": [
            "Drive already mounted at /content/drive; to attempt to forcibly remount, call drive.mount(\"/content/drive\", force_remount=True).\n"
          ]
        }
      ],
      "source": [
        "\n",
        "#------Importações de Pacotes -----------------------------------------------------------------------------------|\n",
        "\n",
        "import pytesseract\n",
        "import pandas as pd\n",
        "import re\n",
        "from tqdm import tqdm\n",
        "import glob\n",
        "from PIL import Image\n",
        "from oauth2client.client import GoogleCredentials \n",
        "from google.auth import default\n",
        "from google.colab import auth\n",
        "import gspread\n",
        "from gspread_dataframe import set_with_dataframe\n",
        "\n",
        "#------------------------------------------------------------------------------------------------------------------------#\n",
        "\n",
        "#------------------------------------------------------------------------------------------------------------------------|\n",
        "\n",
        "# Montar o drive para buscar os arquivos\n",
        "from google.colab import drive\n",
        "drive.mount('/content/drive') #Acessar drive da Rampage\n",
        "\n",
        "#------------------------------------------------------------------------------------------------------------------|\n",
        "# Inicio Função de leitura dos comprovantes -----------------------------------------------------------------------------|\n",
        "\n",
        "def tabela_pix():\n",
        "    auth.authenticate_user()\n",
        "    creds, _ = default()\n",
        "    gc = gspread.authorize(creds)\n",
        "\n",
        "    print('Cole o Caminho onde estão os comprovantes\\n')\n",
        "    path = input()\n",
        "    diretorio = glob.glob(path + '/*.jpg')\n",
        "\n",
        "    print('\\n Digite o nome da tabela \\n')\n",
        "    name_tab = input()\n",
        "\n",
        "    arquivo = []\n",
        "    entrada = []\n",
        "    saida = []\n",
        "    data_transacao = []\n",
        "    descricao = []\n",
        "    pagador = []\n",
        "\n",
        "    for nome in tqdm(diretorio):\n",
        "        \n",
        "        #Leitura da imagem\n",
        "        diretorio = nome\n",
        "        image_path_in_colab = nome\n",
        "\n",
        "        #Extrai a informaçõe em formato de texto\n",
        "        extractedInformation = pytesseract.image_to_string(Image.open(image_path_in_colab),lang=\"por\")\n",
        "        texto = extractedInformation\n",
        "        manipula_arquivo = nome.split('/')\n",
        "        manipula_arquivo = manipula_arquivo[-1] # Pega somente o nome do arquivo e ignora o diretório\n",
        "        arquivo.append(manipula_arquivo) # guarda o nome do arquivo em uma lista\n",
        "            \n",
        "        # Buscar  valor Recebido\n",
        "        fatia = texto.split() \n",
        "\n",
        "       \n",
        "\n",
        "        try:\n",
        "          #Tratativa de erro, na leitura do comproavante pode haver comprovantes com R$ ou com RS \n",
        "          \n",
        "          indice_RS = fatia.index('RS')\n",
        "        except ValueError:\n",
        "          indice_RS = fatia.index('R$')\n",
        "\n",
        "\n",
        "        # Encontrar os tipos de entrada( receber uma transferência)\n",
        "        if (('Pixrecebido' in texto) \n",
        "              or ('Pix recebido' in texto) \n",
        "              or ('Transferência recebida' in texto) \n",
        "              or ('Cashback Promocional' in texto) \n",
        "              or ('Cashback' in texto) \n",
        "              or ('Boleto recebido 48 horas' in texto) \n",
        "              or ('Transferência recebida' in texto)\n",
        "                  ):  \n",
        "            \n",
        "            entrada.append(fatia[indice_RS+1]) # Valor do Pix Recebido\n",
        "            saida.append(' ') # vazio pois é uma entrada\n",
        "            fatia = texto.split('\\n')\n",
        "            fatia = [elemento for elemento in fatia if elemento.strip() != \"\"]\n",
        "            if 'Descrição' in texto:\n",
        "              \n",
        "                \n",
        "              if 'Descrição' in fatia[fatia.index('Quem enviou')-1]:\n",
        "                    \n",
        "                  descricao.append(fatia[fatia.index('Quem enviou')-1][9:])\n",
        "                \n",
        "              else: \n",
        "                 descricao.append(fatia[fatia.index('Quem enviou')-1])\n",
        "            else: \n",
        "              descricao.append('sem descricao')\n",
        "\n",
        "            \n",
        "        # Encontrar os tifpo de saida \n",
        "        elif (('—Compra-crédito debitado' in texto) \n",
        "                or ('Pix enviado' in texto) \n",
        "                or ('Pix enviado devolvido' in texto) \n",
        "                or ('Pagamento efetuado' in texto) \n",
        "                or ('Compra no débito' in texto) \n",
        "                or ('Compra - crédito debitado' in texto) \n",
        "                or ('Transferência enviada' in texto)\n",
        "                or ('me Boleto recebido 48 horas')\n",
        "                    ):\n",
        "          \n",
        "            entrada.append(' ')\n",
        "            saida.append(fatia[indice_RS+1])\n",
        "\n",
        "            fatia = texto.split('\\n')\n",
        "            fatia = [elemento for elemento in fatia if elemento.strip() != \"\"]\n",
        "\n",
        "            if 'Descrição' in texto:\n",
        "\n",
        "\n",
        "                  if 'Descrição' in fatia[fatia.index('Quem recebeu')-1]:\n",
        "                    \n",
        "                      descricao.append(fatia[fatia.index('Quem recebeu')-1][9:])\n",
        "                \n",
        "                  else: \n",
        "                    descricao.append(fatia[fatia.index('Quem recebeu')-1])\n",
        "\n",
        "            else: \n",
        "                descricao.append('sem descricao')\n",
        "\n",
        "        # Se o tipo de transferência não foi especificado aqui\n",
        "        else:\n",
        "              entrada.append('tipo de pagamento não suportado')\n",
        "              saida.append('tipo de pagamento não suportado')\n",
        "            \n",
        "        #Buscar a data do Pagamento\n",
        "        matchs = re.search(r'(\\d+/\\d+/\\d+)', texto)\n",
        "        data_transacao.append(matchs.group(1)) # Data\n",
        "            \n",
        "        # Buscar nome do Pagador\n",
        "        fatia = texto.split('\\n')\n",
        "        fatia = [elemento for elemento in fatia if elemento.strip() != \"\"]\n",
        "        print(fatia) #REMOVER\n",
        "\n",
        "        if ('Cashback Promocional' in texto) or ('Cashback' in texto):\n",
        "          pagador.append('Cashback')\n",
        "        elif ('Boleto recebido 48 horas' in texto) or ('me Boleto recebido 48' in texto):\n",
        "          pagador.append('Boleto recebido')\n",
        "        elif 'Outras saídas (2' in texto:\n",
        "          pagador.append(fatia[fatia.index('Outras saídas (2')-1])\n",
        "\n",
        "        else:\n",
        "           pagador.append(fatia[fatia.index('Outras entradas (2')-1])\n",
        "        \n",
        "            \n",
        "      \n",
        "\n",
        "\n",
        "    a = {'Nome':pagador, 'data': data_transacao, 'entrada': entrada, 'Saida':saida, 'Descrição': descricao, 'arquivo':arquivo}\n",
        "    df = pd.DataFrame.from_dict(a, orient='index') \n",
        "    df = df.transpose()\n",
        "\n",
        "    #Cria a planilha que vai receber os dados\n",
        "    \"\"\"\n",
        "     para pegar o folder id : abra a pasta no drive e copia a ultima parte do link \n",
        "     https://drive.google.com/drive/u/0/folders/<folder_id> \n",
        "\n",
        "    \"\"\"\n",
        "\n",
        "    folder_id = '1ND0LulP2nnHGGC-QRRV34uSt5Hwt1qnR'\n",
        "    gc.create(name_tab, folder_id= folder_id)\n",
        "    \n",
        "    #Abre a planilha via Python\n",
        "    gs = gc.open(name_tab)\n",
        "    worksheet1 = gs.worksheet('Página1') # Nome da pagina padrão ao criar uma planilha\n",
        "    worksheet1.clear()\n",
        "    set_with_dataframe(worksheet=worksheet1, dataframe=df, include_index=False)\n",
        "\n",
        "    return df\n",
        "\n",
        "# Fim da Função -------------------------------------------------------------------------------------------------------\n",
        "\n",
        "# Inicio das entradas ------------------------------------------------------------------------------------------------\n"
      ]
    },
    {
      "cell_type": "markdown",
      "source": [
        "## Gerar Tabela"
      ],
      "metadata": {
        "id": "A0xXWEc86E5t"
      }
    },
    {
      "cell_type": "markdown",
      "source": [
        "/content/drive/MyDrive/Dados/Gestao/Financeiro/2023/test"
      ],
      "metadata": {
        "id": "qZJHNikbBXRh"
      }
    },
    {
      "cell_type": "code",
      "source": [
        "df = tabela_pix()"
      ],
      "metadata": {
        "id": "mB4gwVummXYH",
        "outputId": "9495d2f7-9ff3-4955-b248-fbad46f263ec",
        "colab": {
          "base_uri": "https://localhost:8080/"
        }
      },
      "execution_count": null,
      "outputs": [
        {
          "name": "stdout",
          "output_type": "stream",
          "text": [
            "Cole o Caminho onde estão os comprovantes\n",
            "\n",
            "/content/drive/MyDrive/Dados/Gestao/Financeiro/2023/Prints_Abril\n",
            "\n",
            " Digite o nome da tabela \n",
            "\n",
            "caixa_abril_2023\n"
          ]
        },
        {
          "output_type": "stream",
          "name": "stderr",
          "text": [
            "  1%|          | 1/173 [00:02<07:02,  2.46s/it]"
          ]
        },
        {
          "output_type": "stream",
          "name": "stdout",
          "text": [
            "['Rr', 'e Pix recebido', 'E', 'R$ 16,00', 'Neide Aparecida Fernandes', 'Outras entradas (2', 'Sobre a transação', 'Data da transação', 'Segunda-feira, 03/04/2023', 'Horário 12h53', 'ID da transação', 'E60701190202304031552DY5VKMWL Ô', 'VS7', 'Descrição 1 vendinha', 'Quem enviou', 'Nome Neide Aparecida Fernandes', 'CPF/CNPJ ***366.256-**', 'III O «']\n"
          ]
        },
        {
          "output_type": "stream",
          "name": "stderr",
          "text": [
            "\r  1%|          | 2/173 [00:03<05:28,  1.92s/it]"
          ]
        },
        {
          "output_type": "stream",
          "name": "stdout",
          "text": [
            "['Rr', 'e Pix recebido', 'G', 'R$ 89,00', 'Thiago Vieira Silveira', 'Outras entradas (2', 'Sobre a transação', 'Data da transação', 'Segunda-feira, 03/04/2023', 'Horário 13h43', 'ID da transação', 'E18236120202304031641514305bbbd Ô', 'o', 'Quem enviou', 'Nome Thiago Vieira Silveira', 'CPF/CNPJ *** 538.526-**', 'Instituição NU PAGAMENTOS - IP', 'III O «']\n"
          ]
        },
        {
          "output_type": "stream",
          "name": "stderr",
          "text": [
            "\r  2%|▏         | 3/173 [00:05<04:50,  1.71s/it]"
          ]
        },
        {
          "output_type": "stream",
          "name": "stdout",
          "text": [
            "['Rr', 'e Pix recebido', 'G', 'R$ 13,75', 'Pedro Henrique Gusmão Lula', 'Outras entradas (2', 'Sobre a transação', 'Data da transação', 'Segunda-feira, 03/04/2023', 'Horário 15h43', 'ID da transação', 'E182361202023040318435167c5d4214 Ô', 'Quem enviou', 'Nome Pedro Henrique Gusmão Lula', 'CPF/CNPJ ***706.296-**', 'Instituição NU PAGAMENTOS - IP', 'III O «']\n"
          ]
        },
        {
          "output_type": "stream",
          "name": "stderr",
          "text": [
            "\r  2%|▏         | 4/173 [00:06<04:17,  1.53s/it]"
          ]
        },
        {
          "output_type": "stream",
          "name": "stdout",
          "text": [
            "['Rr', 'e Pix enviado', '&', 'R$ 2.577,50', 'Joao Victor Do Carmo Silva', 'Outras saídas (2', 'Sobre a transação', 'Data da transação', 'Segunda-feira, 03/04/2023', 'Horário 14h20', 'ID da transação', 'E00416968202304031718eSqgerpwaPg Ô', 'K', 'Descrição', 'Primeira parcela - Camisas Rampage Baja', 'Quem recebeu', 'Nome Joao Victor Do Carmo Silva', 'CPF/CNPJ ***,617.476-**', 'III O «']\n"
          ]
        },
        {
          "output_type": "stream",
          "name": "stderr",
          "text": [
            "\r  3%|▎         | 5/173 [00:07<03:53,  1.39s/it]"
          ]
        },
        {
          "output_type": "stream",
          "name": "stdout",
          "text": [
            "['Rr', 'e Pix recebido', 'E', 'R$ 2,30', 'Gabriel Cotta Lamas', 'Outras entradas (2', 'Sobre a transação', 'Data da transação', 'Segunda-feira, 03/04/2023', 'Horário 14h11', 'ID da transação', 'E000000002023040317111348714982 Ô', '3', 'Quem enviou', 'Nome Gabriel Cotta Lamas', 'CPF/CNPJ *** 317.566-**', 'Instituição BCO DO BRASIL S.A.', 'III O «']\n"
          ]
        },
        {
          "output_type": "stream",
          "name": "stderr",
          "text": [
            "\r  3%|▎         | 6/173 [00:09<03:49,  1.37s/it]"
          ]
        },
        {
          "output_type": "stream",
          "name": "stdout",
          "text": [
            "['Rr', 'e Pix recebido', 'G', 'R$ 2,00', 'Bernardo Dornellas Pereira Gomes', 'Outras entradas (2', 'Sobre a transação', 'Data da transação', 'Segunda-feira, 03/04/2023', 'Horário 15h46', 'ID da transação', 'E18236120202304031846s14ebf44e4b Ô', 'Descrição 1', 'Quem enviou', 'Nome Bernardo Dornellas Pereira Gomes', 'CPF/CNPJ ***635.696-**', 'Instituição NU PAGAMENTOS - IP', 'III O «']\n"
          ]
        },
        {
          "output_type": "stream",
          "name": "stderr",
          "text": [
            "\r  4%|▍         | 7/173 [00:10<03:50,  1.39s/it]"
          ]
        },
        {
          "output_type": "stream",
          "name": "stdout",
          "text": [
            "['Rr', 'e Pix recebido', 'G', 'R$ 30,00', 'Bernardo Dornellas Pereira Gomes', 'Outras entradas (2', 'Sobre a transação', 'Data da transação', 'Segunda-feira, 03/04/2023', 'Horário 15h47', 'ID da transação', 'E1823612020230403184751419a5b134 Ô', 'Descrição 2- vakinha abril e maio', 'Quem enviou', 'Nome Bernardo Dornellas Pereira Gomes', 'CPF/CNPJ ***635.696-**', 'Instituição NU PAGAMENTOS - IP', 'III O «']\n"
          ]
        },
        {
          "output_type": "stream",
          "name": "stderr",
          "text": [
            "\r  5%|▍         | 8/173 [00:11<03:47,  1.38s/it]"
          ]
        },
        {
          "output_type": "stream",
          "name": "stdout",
          "text": [
            "['Rr', 'e Pix recebido', 'G', 'R$ 8,40', 'Pedro Augusto Brugiolo Roux', 'Outras entradas (2', 'Sobre a transação', 'Data da transação', 'Segunda-feira, 03/04/2023', 'Horário 16h04', 'ID da transação', 'E60746948202304031904A1591Takms Ô', 'A', 'Quem enviou', 'Nome Pedro Augusto Brugiolo Roux', 'CPF/CNPJ *+**,079.856-**', 'Instituição BCO BRADESCO S.A.', 'III O «']\n"
          ]
        },
        {
          "output_type": "stream",
          "name": "stderr",
          "text": [
            "\r  5%|▌         | 9/173 [00:13<03:45,  1.38s/it]"
          ]
        },
        {
          "output_type": "stream",
          "name": "stdout",
          "text": [
            "['11:05', 'e Pix recebido', 'E', 'R$ 3,50', 'Rafael Welerson Sott Meyer', 'Outras entradas (2', 'Sobre a transação', 'Data da transação', 'Segunda-feira, 03/04/2023', 'Horário 16h40', 'ID da transação', 'E22896431202304031940YUKGdK9JG Ô', 'WW', 'Descrição 1', 'Quem enviou', 'Nome Rafael Welerson Sott Meyer', 'CPF/CNPJ ***224.766-**', 'III O «']\n"
          ]
        },
        {
          "output_type": "stream",
          "name": "stderr",
          "text": [
            "\r  6%|▌         | 10/173 [00:15<04:27,  1.64s/it]"
          ]
        },
        {
          "output_type": "stream",
          "name": "stdout",
          "text": [
            "['11:05', 'e Pix recebido', 'G', 'R$ 12,50', 'Gabriel Milazzo Santos', 'Outras entradas (2', 'Sobre a transação', 'Data da transação', 'Segunda-feira, 03/04/2023', 'Horário 16h43', 'ID da transação', 'E00416968202304031943pEBLHi32eM Ô', 'T', 'Descrição 1', 'Quem enviou', 'Nome Gabriel Milazzo Santos', 'CPF/CNPJ *** 981.066-**', 'III O «']\n"
          ]
        },
        {
          "output_type": "stream",
          "name": "stderr",
          "text": [
            "\r  6%|▋         | 11/173 [00:17<04:46,  1.77s/it]"
          ]
        },
        {
          "output_type": "stream",
          "name": "stdout",
          "text": [
            "['11:05', 'e Pix recebido', 'E', 'R$ 2,50', 'João Pedro De Mello Maneze', 'Outras entradas (2', 'Sobre a transação', 'Data da transação Terça-feira, 04/04/2023', 'Horário 14h08', 'ID da transação', 'E18236120202304041708s07ab23dcc O', '8', 'Quem enviou', 'Nome João Pedro De Mello Maneze', 'CPF/CNPJ ***225.046-**', 'Instituição NU PAGAMENTOS - IP', 'III O «']\n"
          ]
        },
        {
          "output_type": "stream",
          "name": "stderr",
          "text": [
            "\r  7%|▋         | 12/173 [00:19<04:26,  1.66s/it]"
          ]
        },
        {
          "output_type": "stream",
          "name": "stdout",
          "text": [
            "['11:05', 'e Pix recebido', 'E', 'R$ 8,15', 'Pedro Martins Da Silva', 'Outras entradas (2', 'Sobre a transação', 'Data da transação Terça-feira, 04/04/2023', 'Horário 13h37', 'ID da transação', 'E90400888202304041636100246691 [D)', '76', 'Descrição 1spc', 'Quem enviou', 'Nome Pedro Martins Da Silva', 'CPF/CNPJ **4072.557-**', 'instituição BCO SANTANDER (BRASIL) S.A.', 'III O «']\n"
          ]
        },
        {
          "output_type": "stream",
          "name": "stderr",
          "text": [
            "\r  8%|▊         | 13/173 [00:20<04:07,  1.55s/it]"
          ]
        },
        {
          "output_type": "stream",
          "name": "stdout",
          "text": [
            "['11:05', 'e Pix recebido', 'G', 'R$ 2,00', 'Gabriel Cotta Lamas', 'Outras entradas (2', 'Sobre a transação', 'Data da transação', 'Segunda-feira, 03/04/2023', 'Horário 16h50', 'ID da transação', 'E00000000202304031950377332070 Ô', '96', 'Quem enviou', 'Nome Gabriel Cotta Lamas', 'CPF/CNPJ *** 317.566-**', 'Instituição BCO DO BRASIL S.A.', 'III O «']\n"
          ]
        },
        {
          "output_type": "stream",
          "name": "stderr",
          "text": [
            "\r  8%|▊         | 14/173 [00:21<04:05,  1.55s/it]"
          ]
        },
        {
          "output_type": "stream",
          "name": "stdout",
          "text": [
            "['11:05', 'e Pix recebido', 'G', 'R$ 50,00', 'Rayanne Cristina Da Silva', 'Outras entradas (2', 'Sobre a transação', 'Data da transação Terça-feira, 04/04/2023', 'Horário 17h49', 'ID da transação', 'E$18724952029040420485VSeBFaSC O', 'i', 'Descrição 3', 'Quem enviou', 'Nome Rayanne Cristina Da Silva', 'CPF/CNPJ *+**054.296-**', 'Instituição BCO C6 S.A.', 'III O «']\n"
          ]
        },
        {
          "output_type": "stream",
          "name": "stderr",
          "text": [
            "\r  9%|▊         | 15/173 [00:23<03:56,  1.49s/it]"
          ]
        },
        {
          "output_type": "stream",
          "name": "stdout",
          "text": [
            "['11:05', 'e Pix recebido', 'G', 'R$ 10,00', 'Julia Garcia Pereira Cascardo', 'Outras entradas (2', 'Sobre a transação', 'Data da transação', 'Quarta-feira, 05/04/2023', 'Horário 14h46', 'ID da transação', 'E60746948202304051745A1602akz8 Ô', '08', 'Descrição 3', 'Quem enviou', 'Nome Julia Garcia Pereira Cascardo', 'CPF/CNPJ *** 231.506-**', 'III O «']\n"
          ]
        },
        {
          "output_type": "stream",
          "name": "stderr",
          "text": [
            "\r  9%|▉         | 16/173 [00:24<03:46,  1.44s/it]"
          ]
        },
        {
          "output_type": "stream",
          "name": "stdout",
          "text": [
            "['11:05', 'e Pix recebido', 'E', 'R$ 15,00', 'Gustavo Fernandes Da Silva', 'Outras entradas (2', 'Sobre a transação', 'Data da transação', 'Quinta-feira, 06/04/2023', 'Horário 16h53', 'ID da transação', 'E00416968202304061952Z0NONOnsX Ô', 'VN', 'Descrição 3 - vakinha abril', 'Quem enviou', 'Nome Gustavo Fernandes Da Silva', 'CPF/CNPJ *** 428.916-**', 'III O «']\n"
          ]
        },
        {
          "output_type": "stream",
          "name": "stderr",
          "text": [
            "\r 10%|▉         | 17/173 [00:25<03:39,  1.41s/it]"
          ]
        },
        {
          "output_type": "stream",
          "name": "stdout",
          "text": [
            "['11:05', 'e Pix recebido', 'G', 'R$ 35,00', 'Daniel Da Costa', 'Outras entradas (2', 'Sobre a transação', 'Data da transação Sábado, 08/04/2023', 'Horário 14h26', 'ID da transação', 'E18236120202304081726s167e8dfab1 O', 'Descrição 5 - caneca + tirante', 'Quem enviou', 'Nome Daniel Da Costa', 'CPF/CNPJ ++4,317.209-**', 'Instituição NU PAGAMENTOS - IP', 'III O «']\n"
          ]
        },
        {
          "output_type": "stream",
          "name": "stderr",
          "text": [
            "\r 10%|█         | 18/173 [00:27<03:51,  1.49s/it]"
          ]
        },
        {
          "output_type": "stream",
          "name": "stdout",
          "text": [
            "['11:06', 'e Pix recebido', 'G', 'R$ 100,00', 'Júlia Garcia Pereira Cascardo', 'Outras entradas (2', 'Sobre a transação', 'Data da transação', 'Segunda-feira, 10/04/2023', 'Horário 16h46', 'ID da transação', 'E18236120202304101946503113334ce Ô', 'Descrição Pagamento da rifa', 'Quem enviou', 'Nome Júlia Garcia Pereira Cascardo', 'CPF/CNPJ *** 231.506-**', 'Instituição NU PAGAMENTOS - IP', 'III O «']\n"
          ]
        },
        {
          "output_type": "stream",
          "name": "stderr",
          "text": [
            "\r 11%|█         | 19/173 [00:30<04:53,  1.90s/it]"
          ]
        },
        {
          "output_type": "stream",
          "name": "stdout",
          "text": [
            "['11:06', 'e Pix recebido', 'G', 'R$ 20,00', 'Pedro Henrique Gusmão Lula', 'Outras entradas (2', 'Sobre a transação', 'Data da transação', 'Segunda-feira, 10/04/2023', 'Horário 17h33', 'ID da transação', 'E1823612020230410203351652a7d1a0 Ô', 'Quem enviou', 'Nome Pedro Henrique Gusmão Lula', 'CPF/CNPJ ***706.296-**', 'Instituição NU PAGAMENTOS - IP', 'III O «']\n"
          ]
        },
        {
          "output_type": "stream",
          "name": "stderr",
          "text": [
            "\r 12%|█▏        | 20/173 [00:32<04:44,  1.86s/it]"
          ]
        },
        {
          "output_type": "stream",
          "name": "stdout",
          "text": [
            "['11:06', 'e Pix enviado', '&', 'R$ 138,60', 'Thomaz Cunha Ribeiro De Oliveira', 'Outras saídas (2', 'Sobre a transação', 'Data da transação Terça-feira, 11/04/2023', 'Horário 11h56', 'ID da transação', 'E00416968202304111455qw70h59kKD [D)', 'uD', 'Descrição Refri feira de doces', 'Quem recebeu', 'Nome Thomaz Cunha Ribeiro De Oliveira', 'CPF/CNPJ ***829.276-**', 'Instituição BCO DO BRASIL S.A.', 'III O «']\n"
          ]
        },
        {
          "output_type": "stream",
          "name": "stderr",
          "text": [
            "\r 12%|█▏        | 21/173 [00:33<04:23,  1.73s/it]"
          ]
        },
        {
          "output_type": "stream",
          "name": "stdout",
          "text": [
            "['11:06', 'e Pix recebido', 'G', 'R$ 88,00', 'Pedro Henrique Gusmão Lula', 'Outras entradas (2', 'Sobre a transação', 'Data da transação Terça-feira, 11/04/2023', 'Horário 10h52', 'ID da transação', 'E182361202023041113515165f1772bd O', 'Quem enviou', 'Nome Pedro Henrique Gusmão Lula', 'CPF/CNPJ ***7096.296-**', 'Instituição NU PAGAMENTOS - IP', 'III O «']\n"
          ]
        },
        {
          "output_type": "stream",
          "name": "stderr",
          "text": [
            "\r 13%|█▎        | 22/173 [00:34<04:01,  1.60s/it]"
          ]
        },
        {
          "output_type": "stream",
          "name": "stdout",
          "text": [
            "['11:06', 'e Pix recebido', 'E', 'R$ 2,50', 'Gabriel Nobre Alves Nascif', 'Outras entradas (2', 'Sobre a transação', 'Data da transação', 'Segunda-feira, 10/04/2023', 'Horário 18h26', 'ID da transação', 'E60701190202304102125DY5YUN9B6 Ô', 'WT', 'Descrição 3', 'Quem enviou', 'Nome Gabriel Nobre Alves Nascif', 'CPF/CNPJ ***434.316-**', 'III O «']\n"
          ]
        },
        {
          "output_type": "stream",
          "name": "stderr",
          "text": [
            "\r 13%|█▎        | 23/173 [00:36<04:03,  1.62s/it]"
          ]
        },
        {
          "output_type": "stream",
          "name": "stdout",
          "text": [
            "['11:06', 'e Pix recebido', 'G', 'R$ 20,00', 'Solange Cristina Marcolino Polaz De Moraes', 'Outras entradas (2', 'Sobre a transação', 'Data da transação Terça-feira, 11/04/2023', 'Horário 11h57', 'ID da transação', 'E904008882023041114561018458810 O', '5', 'Quem enviou', 'Nome', 'Solange Cristina Marcolino Polaz De Moraes', 'CPF/CNPJ *++*659.338-**', 'instituição BCO SANTANDER (BRASIL) S.A.', 'III O «']\n"
          ]
        },
        {
          "output_type": "stream",
          "name": "stderr",
          "text": [
            "\r 14%|█▍        | 24/173 [00:38<04:01,  1.62s/it]"
          ]
        },
        {
          "output_type": "stream",
          "name": "stdout",
          "text": [
            "['11:06', 'e Pix recebido', 'G', 'R$ 24,40', 'Leonardo Almeida De Oliveira', 'Outras entradas (2', 'Sobre a transação', 'Data da transação Terça-feira, 11/04/2023', 'Horário 12h59', 'ID da transação', 'E18236120202304111559s1255d20a2c O', 'Descrição spc', 'Quem enviou', 'Nome Leonardo Almeida De Oliveira', 'CPF/CNPJ ***782.826-**', 'Instituição NU PAGAMENTOS - IP', 'III O «']\n"
          ]
        },
        {
          "output_type": "stream",
          "name": "stderr",
          "text": [
            "\r 14%|█▍        | 25/173 [00:39<03:59,  1.62s/it]"
          ]
        },
        {
          "output_type": "stream",
          "name": "stdout",
          "text": [
            "['11:06', 'e Pix recebido', 'G', 'R$ 20,00', 'Júlia Garcia Pereira Cascardo', 'Outras entradas (2', 'Sobre a transação', 'Data da transação Terça-feira, 11/04/2023', 'Horário 14h37', 'ID da transação', 'E182361202023041117375034931b79f O', 'Descrição 3', 'Quem enviou', 'Nome Júlia Garcia Pereira Cascardo', 'CPF/CNPJ *** 231.506-**', 'Instituição NU PAGAMENTOS - IP', 'III O «']\n"
          ]
        },
        {
          "output_type": "stream",
          "name": "stderr",
          "text": [
            "\r 15%|█▌        | 26/173 [00:41<03:58,  1.62s/it]"
          ]
        },
        {
          "output_type": "stream",
          "name": "stdout",
          "text": [
            "['11:06', 'e Pix recebido', 'E', 'R$ 1,50', 'Felipe O S Torrao', 'Outras entradas (2', 'Sobre a transação', 'Data da transação', 'Quarta-feira, 12/04/2023', 'Horário 10h51', 'ID da transação', 'E60701190202304121351DY586DOHLZ Ô', '6', 'Descrição 10 FEIRA DE DOCES', 'Quem enviou', 'Nome Felipe O S Torrao', 'CPF/CNPJ ***137,.097-**', 'III O «']\n"
          ]
        },
        {
          "output_type": "stream",
          "name": "stderr",
          "text": [
            "\r 16%|█▌        | 27/173 [00:43<04:33,  1.87s/it]"
          ]
        },
        {
          "output_type": "stream",
          "name": "stdout",
          "text": [
            "['11:06', 'e Pix recebido', 'E', 'R$ 1,50', 'Joao Victor Do Carmo Silva', 'Outras entradas (2', 'Sobre a transação', 'Data da transação', 'Quarta-feira, 12/04/2023', 'Horário 10h38', 'ID da transação', 'E26014175202304121338ZGhRpmGkpz Ô', 'E', 'Quem enviou', 'Nome Joao Victor Do Carmo Silva', 'CPF/CNPJ **4517,476-**', 'Instituição CC GUARANICREDI', 'III O «']\n"
          ]
        },
        {
          "output_type": "stream",
          "name": "stderr",
          "text": [
            "\r 16%|█▌        | 28/173 [00:45<04:26,  1.84s/it]"
          ]
        },
        {
          "output_type": "stream",
          "name": "stdout",
          "text": [
            "['11:06', 'e Pix recebido', 'G', 'R$ 30,00', 'Thalyta Ferreira Soares', 'Outras entradas (2', 'Sobre a transação', 'Data da transação Terça-feira, 11/04/2023', 'Horário 18h14', 'ID da transação', 'E24313102202304112114WrBYqbidw8q O', 'Descrição troca pix Vendinha', 'Quem enviou', 'Nome Thalyta Ferreira Soares', 'CPF/CNPJ *94123.276-**', 'Instituição 99PAYIPS.A.', 'III O «']\n"
          ]
        },
        {
          "output_type": "stream",
          "name": "stderr",
          "text": [
            "\r 17%|█▋        | 29/173 [00:46<04:01,  1.67s/it]"
          ]
        },
        {
          "output_type": "stream",
          "name": "stdout",
          "text": [
            "['LN ROrA', 'e Pix recebido', 'G', 'R$ 3,00', 'Rafael Welerson Sott Meyer', 'Outras entradas (2', 'Sobre a transação', 'Data da transação', 'Quarta-feira, 12/04/2023', 'Horário 11h18', 'ID da transação', 'E22896431202304121418WcDagUglIMs Ô', 'f', 'Quem enviou', 'Nome Rafael Welerson Sott Meyer', 'CPF/CNPJ *+**224.766-**', 'Instituição PICPAY', 'III O «']\n"
          ]
        },
        {
          "output_type": "stream",
          "name": "stderr",
          "text": [
            "\r 17%|█▋        | 30/173 [00:48<03:36,  1.52s/it]"
          ]
        },
        {
          "output_type": "stream",
          "name": "stdout",
          "text": [
            "['LN ROrA', 'e Pix recebido', 'G', 'R$ 5,00', 'Felipe Augusto Teixeira Ferreira', 'Outras entradas (2', 'Sobre a transação', 'Data da transação', 'Quarta-feira, 12/04/2023', 'Horário 11h26', 'ID da transação', 'E22896431202304121425EN3syTuqgVx Ô', 'U', 'Quem enviou', 'Nome Felipe Augusto Teixeira Ferreira', 'CPF/CNPJ ***134.916-**', 'Instituição PICPAY', 'III O «']\n"
          ]
        },
        {
          "output_type": "stream",
          "name": "stderr",
          "text": [
            "\r 18%|█▊        | 31/173 [00:49<03:35,  1.52s/it]"
          ]
        },
        {
          "output_type": "stream",
          "name": "stdout",
          "text": [
            "['LN ROrA', 'e Pix recebido', 'E', 'RS 6,50', 'Maria Fernanda De Araujo Vieira Serafim', 'Outras entradas (2', 'Sobre a transação', 'Data da transação', 'Quarta-feira, 12/04/2023', 'Horário 10h59', 'ID da transação', 'E228964312023041213518qpdKwRclqv Ô', 'Quem enviou', 'Nome', 'Maria Fernanda De Araujo Vieira Serafim', 'CPF/CNPJ ***839.597-**', 'Instituição PICPAY', 'III O «']\n"
          ]
        },
        {
          "output_type": "stream",
          "name": "stderr",
          "text": [
            "\r 18%|█▊        | 32/173 [00:50<03:26,  1.46s/it]"
          ]
        },
        {
          "output_type": "stream",
          "name": "stdout",
          "text": [
            "['LN ROrA', 'e Pix recebido', 'G', 'R$ 5,00', 'Felipe O S Torrao', 'Outras entradas (2', 'Sobre a transação', 'Data da transação', 'Quarta-feira, 12/04/2023', 'Horário 11h26', 'ID da transação', 'E60701190202304121425DY5T2WGHK Ô', 'AE', 'Descrição 10 FEIRA DE DOCES', 'Quem enviou', 'Nome Felipe O S Torrao', 'CPF/CNPJ ***137,.097-**', 'III O «']\n"
          ]
        },
        {
          "output_type": "stream",
          "name": "stderr",
          "text": [
            "\r 19%|█▉        | 33/173 [00:52<03:17,  1.41s/it]"
          ]
        },
        {
          "output_type": "stream",
          "name": "stdout",
          "text": [
            "['LN ROrA', 'e Pix recebido', 'G', 'R$ 3,00', 'Maria Eduarda Vieira Talarico', 'Outras entradas (2', 'Sobre a transação', 'Data da transação', 'Quarta-feira, 12/04/2023', 'Horário 11h17', 'ID da transação', 'E904008882023041214161020988993 Ô', '7', 'Quem enviou', 'Nome Maria Eduarda Vieira Talarico', 'CPF/CNPJ ***,290.066-**', 'instituição BCO SANTANDER (BRASIL) S.A.', 'III O «']\n"
          ]
        },
        {
          "output_type": "stream",
          "name": "stderr",
          "text": [
            "\r 20%|█▉        | 34/173 [00:53<03:11,  1.38s/it]"
          ]
        },
        {
          "output_type": "stream",
          "name": "stdout",
          "text": [
            "['LN ROrA', 'e Pix recebido', 'G', 'R$ 5,00', 'Mayra Urbieta Barbosa', 'Outras entradas (2', 'Sobre a transação', 'Data da transação', 'Quarta-feira, 12/04/2023', 'Horário 11h45', 'ID da transação', 'E18236120202304121444508799da20 Ô', 'b', 'Quem enviou', 'Nome Mayra Urbieta Barbosa', 'CPF/CNPJ +++ 448.616-**', 'Instituição NU PAGAMENTOS - IP', 'III O «']\n"
          ]
        },
        {
          "output_type": "stream",
          "name": "stderr",
          "text": [
            "\r 20%|██        | 35/173 [00:55<03:16,  1.42s/it]"
          ]
        },
        {
          "output_type": "stream",
          "name": "stdout",
          "text": [
            "['LN ROrA', 'e Pix recebido', 'G', 'R$ 3,00', 'Felipe Augusto Teixeira Ferreira', 'Outras entradas (2', 'Sobre a transação', 'Data da transação', 'Quarta-feira, 12/04/2023', 'Horário 11h28', 'ID da transação', 'E22896431202304121428CQUHJXOtD Ô', '20', 'Quem enviou', 'Nome Felipe Augusto Teixeira Ferreira', 'CPF/CNPJ ***134.916-**', 'Instituição PICPAY', 'III O «']\n"
          ]
        },
        {
          "output_type": "stream",
          "name": "stderr",
          "text": [
            "\r 21%|██        | 36/173 [00:57<04:07,  1.80s/it]"
          ]
        },
        {
          "output_type": "stream",
          "name": "stdout",
          "text": [
            "['LN ROrA', 'e Pix recebido', 'G', 'R$ 5,00', 'Camila Thomacelli Tavares', 'Outras entradas (2', 'Sobre a transação', 'Data da transação', 'Quarta-feira, 12/04/2023', 'Horário 11h50', 'ID da transação', 'E18236120202304121449s04ab482e6 Ô', '9', 'Quem enviou', 'Nome Camila Thomacelli Tavares', 'CPF/CNPJ ***,973.566-**', 'Instituição NU PAGAMENTOS - IP', 'III O «']\n"
          ]
        },
        {
          "output_type": "stream",
          "name": "stderr",
          "text": [
            "\r 21%|██▏       | 37/173 [00:59<04:02,  1.79s/it]"
          ]
        },
        {
          "output_type": "stream",
          "name": "stdout",
          "text": [
            "['LN ROrA', 'e Pix recebido', 'G', 'R$ 5,00', 'Rafael Welerson Sott Meyer', 'Outras entradas (2', 'Sobre a transação', 'Data da transação', 'Quarta-feira, 12/04/2023', 'Horário 11h38', 'ID da transação', 'E22896431202304121438K048c4€e829 Ô', 'b', 'Quem enviou', 'Nome Rafael Welerson Sott Meyer', 'CPF/CNPJ *+**224.766-**', 'Instituição PICPAY', 'III O «']\n"
          ]
        },
        {
          "output_type": "stream",
          "name": "stderr",
          "text": [
            "\r 22%|██▏       | 38/173 [01:00<03:43,  1.66s/it]"
          ]
        },
        {
          "output_type": "stream",
          "name": "stdout",
          "text": [
            "['11:08', 'e Pix recebido', 'G', 'R$ 5,00', 'Flavia Campos Marques', 'Outras entradas (2', 'Sobre a transação', 'Data da transação', 'Quarta-feira, 12/04/2023', 'Horário 11h50', 'ID da transação', 'E00000000202304121449487900329 Ô', '30', 'Quem enviou', 'Nome Flavia Campos Marques', 'CPF/CNPJ ***778.736-**', 'Instituição BCO DO BRASIL S.A.', 'III O «']\n"
          ]
        },
        {
          "output_type": "stream",
          "name": "stderr",
          "text": [
            "\r 23%|██▎       | 39/173 [01:02<03:33,  1.59s/it]"
          ]
        },
        {
          "output_type": "stream",
          "name": "stdout",
          "text": [
            "['LN ROrA', 'e Pix recebido', 'G', 'R$ 5,00', 'Maria Teresa Cassador Consoli Silva', 'Outras entradas (2', 'Sobre a transação', 'Data da transação', 'Quarta-feira, 12/04/2023', 'Horário 11h43', 'ID da transação', 'E1823612020230412144351481c3741d Ô', 'Quem enviou', 'Nome Maria Teresa Cassador Consoli Silva', 'CPF/CNPJ ***191.996-**', 'Instituição NU PAGAMENTOS - IP', 'III O «']\n"
          ]
        },
        {
          "output_type": "stream",
          "name": "stderr",
          "text": [
            "\r 23%|██▎       | 40/173 [01:03<03:19,  1.50s/it]"
          ]
        },
        {
          "output_type": "stream",
          "name": "stdout",
          "text": [
            "['11:08', 'e Pix recebido', 'G', 'R$ 20,00', 'Mateus Assis Cotta', 'Outras entradas (2', 'Sobre a transação', 'Data da transação', 'Quarta-feira, 12/04/2023', 'Horário 12h22', 'ID da transação', 'E1823612020230412152251428273133 Ô', 'Quem enviou', 'Nome Mateus Assis Cotta', 'CPF/CNPJ ***007.556-**', 'Instituição NU PAGAMENTOS - IP', 'III O «']\n"
          ]
        },
        {
          "output_type": "stream",
          "name": "stderr",
          "text": [
            "\r 24%|██▎       | 41/173 [01:04<03:10,  1.44s/it]"
          ]
        },
        {
          "output_type": "stream",
          "name": "stdout",
          "text": [
            "['11:08', 'e Pix enviado', '&', 'R$ 91,37', 'Leonardo Almeida De Oliveira', 'Outras saídas (2', 'Sobre a transação', 'Data da transação', 'Quarta-feira, 12/04/2023', 'Horário 11h52', 'ID da transação', 'E00416968202304121451IsUbsiBmtoQ Ô', 'Descrição', 'devolução dinheiro enviado errado', 'Quem recebeu', 'Nome Leonardo Almeida De Oliveira', 'CPF/CNPJ ***782.826-**', 'III O «']\n"
          ]
        },
        {
          "output_type": "stream",
          "name": "stderr",
          "text": [
            "\r 24%|██▍       | 42/173 [01:06<03:13,  1.48s/it]"
          ]
        },
        {
          "output_type": "stream",
          "name": "stdout",
          "text": [
            "['11:08', 'e Pix recebido', 'G', 'R$ 6,00', 'Nathaly De Souza Silva', 'Outras entradas (2', 'Sobre a transação', 'Data da transação', 'Quarta-feira, 12/04/2023', 'Horário 12h22', 'ID da transação', 'E0036030520230412152277075cd8d2 O', '4', 'Quem enviou', 'Nome Nathaly De Souza Silva', 'CPF/CNPJ ***079.326-**', 'Instituição CAIXA ECONOMICA FEDERAL', 'III O «']\n"
          ]
        },
        {
          "output_type": "stream",
          "name": "stderr",
          "text": [
            "\r 25%|██▍       | 43/173 [01:08<03:14,  1.49s/it]"
          ]
        },
        {
          "output_type": "stream",
          "name": "stdout",
          "text": [
            "['11:08', 'e Pix recebido', 'G', 'R$ 10,00', 'Glaycilene Maia De Souza', 'Outras entradas (2', 'Sobre a transação', 'Data da transação', 'Quarta-feira, 12/04/2023', 'Horário 12h23', 'ID da transação', 'E18236120202304121523s05€e81b8c58 Ô', 'Quem enviou', 'Nome Glaycilene Maia De Souza', 'CPF/CNPJ ***704.016-**', 'Instituição NU PAGAMENTOS - IP', 'III O «']\n"
          ]
        },
        {
          "output_type": "stream",
          "name": "stderr",
          "text": [
            "\r 25%|██▌       | 44/173 [01:09<03:25,  1.59s/it]"
          ]
        },
        {
          "output_type": "stream",
          "name": "stdout",
          "text": [
            "['11:08', 'e Pix recebido', 'G', 'R$ 6,00', 'Ines Da Rosa Hebo', 'Outras entradas (2', 'Sobre a transação', 'Data da transação', 'Quarta-feira, 12/04/2023', 'Horário 12h19', 'ID da transação', 'E000000002023041215191325353828 O', '4', 'Quem enviou', 'Nome Ines Da Rosa Hebo', 'CPF/CNPJ *** 334.196-**', 'Instituição BCO DO BRASIL S.A.', 'III O «']\n"
          ]
        },
        {
          "output_type": "stream",
          "name": "stderr",
          "text": [
            "\r 26%|██▌       | 45/173 [01:12<04:04,  1.91s/it]"
          ]
        },
        {
          "output_type": "stream",
          "name": "stdout",
          "text": [
            "['11:08', 'e Pix recebido', 'G', 'R$ 8,00', 'Sarah Victoria Gardenal Lourenco', 'Outras entradas (2', 'Sobre a transação', 'Data da transação', 'Quarta-feira, 12/04/2023', 'Horário 12h38', 'ID da transação', 'E00416968202304121538ptVZ3ZIiH21 Ô', 'Descrição 10 FEIRA DE DOCES', 'Quem enviou', 'Nome Sarah Victoria Gardenal Lourenco', 'CPF/CNPJ ***199108-**', 'Instituição BANCO INTERS.A.', 'III O «']\n"
          ]
        },
        {
          "output_type": "stream",
          "name": "stderr",
          "text": [
            "\r 27%|██▋       | 46/173 [01:13<03:34,  1.69s/it]"
          ]
        },
        {
          "output_type": "stream",
          "name": "stdout",
          "text": [
            "['11:08', 'e Pix recebido', 'G', 'R$ 10,00', 'lara Lima Moura', 'Outras entradas (2', 'Sobre a transação', 'Data da transação', 'Quarta-feira, 12/04/2023', 'Horário 12h36', 'ID da transação', 'E00000000202304121536395849442 O', '04', 'Descrição Rocambole e musse lara', 'Quem enviou', 'Nome lara Lima Moura', 'CPF/CNPJ ***841.286-**', 'III O «']\n"
          ]
        },
        {
          "output_type": "stream",
          "name": "stderr",
          "text": [
            "\r 27%|██▋       | 47/173 [01:14<03:16,  1.56s/it]"
          ]
        },
        {
          "output_type": "stream",
          "name": "stdout",
          "text": [
            "['11:08', 'e Pix recebido', 'G', 'R$ 7,00', 'Isabella Costa Lacerda', 'Outras entradas (2', 'Sobre a transação', 'Data da transação', 'Quarta-feira, 12/04/2023', 'Horário 12h29', 'ID da transação', 'E86389236202304121529UZEwDWags Ô', 'Hg', 'Quem enviou', 'Nome Isabella Costa Lacerda', 'CPF/CNPJ *** 475.506-**', 'Instituição COOP SICOOB UNI SUDESTE', 'III O «']\n"
          ]
        },
        {
          "output_type": "stream",
          "name": "stderr",
          "text": [
            "\r 28%|██▊       | 48/173 [01:16<03:00,  1.45s/it]"
          ]
        }
      ]
    },
    {
      "cell_type": "code",
      "source": [
        "df"
      ],
      "metadata": {
        "id": "5DiQHBtf9yzy",
        "outputId": "aea15a38-1c27-40e0-a00b-68a92c1adeba",
        "colab": {
          "base_uri": "https://localhost:8080/",
          "height": 239
        }
      },
      "execution_count": 30,
      "outputs": [
        {
          "output_type": "execute_result",
          "data": {
            "text/plain": [
              "                          Nome        data entrada   Saida  \\\n",
              "0   Guilherme De Almeida Paula  19/04/2023           69,58   \n",
              "1              Boleto recebido  25/04/2023          316,90   \n",
              "2  Guilherme Da Costa Oliveira  26/04/2023    3,50           \n",
              "\n",
              "            Descrição                                         arquivo  \n",
              "0   compra eletrônica  Cópia de Screenshot_20230427-111849_Inter.jpg  \n",
              "1       sem descricao  Cópia de Screenshot_20230427-112149_Inter.jpg  \n",
              "2       sem descricao  Cópia de Screenshot_20230427-112221_Inter.jpg  "
            ],
            "text/html": [
              "\n",
              "  <div id=\"df-62eeae96-cf6e-4228-8497-afd2c0084a86\">\n",
              "    <div class=\"colab-df-container\">\n",
              "      <div>\n",
              "<style scoped>\n",
              "    .dataframe tbody tr th:only-of-type {\n",
              "        vertical-align: middle;\n",
              "    }\n",
              "\n",
              "    .dataframe tbody tr th {\n",
              "        vertical-align: top;\n",
              "    }\n",
              "\n",
              "    .dataframe thead th {\n",
              "        text-align: right;\n",
              "    }\n",
              "</style>\n",
              "<table border=\"1\" class=\"dataframe\">\n",
              "  <thead>\n",
              "    <tr style=\"text-align: right;\">\n",
              "      <th></th>\n",
              "      <th>Nome</th>\n",
              "      <th>data</th>\n",
              "      <th>entrada</th>\n",
              "      <th>Saida</th>\n",
              "      <th>Descrição</th>\n",
              "      <th>arquivo</th>\n",
              "    </tr>\n",
              "  </thead>\n",
              "  <tbody>\n",
              "    <tr>\n",
              "      <th>0</th>\n",
              "      <td>Guilherme De Almeida Paula</td>\n",
              "      <td>19/04/2023</td>\n",
              "      <td></td>\n",
              "      <td>69,58</td>\n",
              "      <td>compra eletrônica</td>\n",
              "      <td>Cópia de Screenshot_20230427-111849_Inter.jpg</td>\n",
              "    </tr>\n",
              "    <tr>\n",
              "      <th>1</th>\n",
              "      <td>Boleto recebido</td>\n",
              "      <td>25/04/2023</td>\n",
              "      <td></td>\n",
              "      <td>316,90</td>\n",
              "      <td>sem descricao</td>\n",
              "      <td>Cópia de Screenshot_20230427-112149_Inter.jpg</td>\n",
              "    </tr>\n",
              "    <tr>\n",
              "      <th>2</th>\n",
              "      <td>Guilherme Da Costa Oliveira</td>\n",
              "      <td>26/04/2023</td>\n",
              "      <td>3,50</td>\n",
              "      <td></td>\n",
              "      <td>sem descricao</td>\n",
              "      <td>Cópia de Screenshot_20230427-112221_Inter.jpg</td>\n",
              "    </tr>\n",
              "  </tbody>\n",
              "</table>\n",
              "</div>\n",
              "      <button class=\"colab-df-convert\" onclick=\"convertToInteractive('df-62eeae96-cf6e-4228-8497-afd2c0084a86')\"\n",
              "              title=\"Convert this dataframe to an interactive table.\"\n",
              "              style=\"display:none;\">\n",
              "        \n",
              "  <svg xmlns=\"http://www.w3.org/2000/svg\" height=\"24px\"viewBox=\"0 0 24 24\"\n",
              "       width=\"24px\">\n",
              "    <path d=\"M0 0h24v24H0V0z\" fill=\"none\"/>\n",
              "    <path d=\"M18.56 5.44l.94 2.06.94-2.06 2.06-.94-2.06-.94-.94-2.06-.94 2.06-2.06.94zm-11 1L8.5 8.5l.94-2.06 2.06-.94-2.06-.94L8.5 2.5l-.94 2.06-2.06.94zm10 10l.94 2.06.94-2.06 2.06-.94-2.06-.94-.94-2.06-.94 2.06-2.06.94z\"/><path d=\"M17.41 7.96l-1.37-1.37c-.4-.4-.92-.59-1.43-.59-.52 0-1.04.2-1.43.59L10.3 9.45l-7.72 7.72c-.78.78-.78 2.05 0 2.83L4 21.41c.39.39.9.59 1.41.59.51 0 1.02-.2 1.41-.59l7.78-7.78 2.81-2.81c.8-.78.8-2.07 0-2.86zM5.41 20L4 18.59l7.72-7.72 1.47 1.35L5.41 20z\"/>\n",
              "  </svg>\n",
              "      </button>\n",
              "      \n",
              "  <style>\n",
              "    .colab-df-container {\n",
              "      display:flex;\n",
              "      flex-wrap:wrap;\n",
              "      gap: 12px;\n",
              "    }\n",
              "\n",
              "    .colab-df-convert {\n",
              "      background-color: #E8F0FE;\n",
              "      border: none;\n",
              "      border-radius: 50%;\n",
              "      cursor: pointer;\n",
              "      display: none;\n",
              "      fill: #1967D2;\n",
              "      height: 32px;\n",
              "      padding: 0 0 0 0;\n",
              "      width: 32px;\n",
              "    }\n",
              "\n",
              "    .colab-df-convert:hover {\n",
              "      background-color: #E2EBFA;\n",
              "      box-shadow: 0px 1px 2px rgba(60, 64, 67, 0.3), 0px 1px 3px 1px rgba(60, 64, 67, 0.15);\n",
              "      fill: #174EA6;\n",
              "    }\n",
              "\n",
              "    [theme=dark] .colab-df-convert {\n",
              "      background-color: #3B4455;\n",
              "      fill: #D2E3FC;\n",
              "    }\n",
              "\n",
              "    [theme=dark] .colab-df-convert:hover {\n",
              "      background-color: #434B5C;\n",
              "      box-shadow: 0px 1px 3px 1px rgba(0, 0, 0, 0.15);\n",
              "      filter: drop-shadow(0px 1px 2px rgba(0, 0, 0, 0.3));\n",
              "      fill: #FFFFFF;\n",
              "    }\n",
              "  </style>\n",
              "\n",
              "      <script>\n",
              "        const buttonEl =\n",
              "          document.querySelector('#df-62eeae96-cf6e-4228-8497-afd2c0084a86 button.colab-df-convert');\n",
              "        buttonEl.style.display =\n",
              "          google.colab.kernel.accessAllowed ? 'block' : 'none';\n",
              "\n",
              "        async function convertToInteractive(key) {\n",
              "          const element = document.querySelector('#df-62eeae96-cf6e-4228-8497-afd2c0084a86');\n",
              "          const dataTable =\n",
              "            await google.colab.kernel.invokeFunction('convertToInteractive',\n",
              "                                                     [key], {});\n",
              "          if (!dataTable) return;\n",
              "\n",
              "          const docLinkHtml = 'Like what you see? Visit the ' +\n",
              "            '<a target=\"_blank\" href=https://colab.research.google.com/notebooks/data_table.ipynb>data table notebook</a>'\n",
              "            + ' to learn more about interactive tables.';\n",
              "          element.innerHTML = '';\n",
              "          dataTable['output_type'] = 'display_data';\n",
              "          await google.colab.output.renderOutput(dataTable, element);\n",
              "          const docLink = document.createElement('div');\n",
              "          docLink.innerHTML = docLinkHtml;\n",
              "          element.appendChild(docLink);\n",
              "        }\n",
              "      </script>\n",
              "    </div>\n",
              "  </div>\n",
              "  "
            ]
          },
          "metadata": {},
          "execution_count": 30
        }
      ]
    },
    {
      "cell_type": "markdown",
      "source": [
        "## Contato"
      ],
      "metadata": {
        "id": "8XDvSJ8NloPd"
      }
    },
    {
      "cell_type": "markdown",
      "source": [
        "* Autor  : Matheus Ramos de Oliveira\n",
        "\n",
        "* contato: ramos.matheus@engenharia.ufjf.br\n",
        "\n",
        "* LinkedIn: https://www.linkedin.com/in/oliveiramatheuss/\n",
        "\n",
        "\n",
        "\n",
        "\n"
      ],
      "metadata": {
        "id": "vG5Zq9dLkB6S"
      }
    }
  ],
  "metadata": {
    "kernelspec": {
      "display_name": "Python 3",
      "language": "python",
      "name": "python3"
    },
    "language_info": {
      "codemirror_mode": {
        "name": "ipython",
        "version": 3
      },
      "file_extension": ".py",
      "mimetype": "text/x-python",
      "name": "python",
      "nbconvert_exporter": "python",
      "pygments_lexer": "ipython3",
      "version": "3.7.6"
    },
    "colab": {
      "provenance": [],
      "include_colab_link": true
    }
  },
  "nbformat": 4,
  "nbformat_minor": 0
}